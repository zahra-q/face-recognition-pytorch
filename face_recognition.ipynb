{
 "cells": [
  {
   "cell_type": "code",
   "execution_count": 1,
   "id": "f803de46",
   "metadata": {},
   "outputs": [],
   "source": [
    "from facenet_pytorch import MTCNN, InceptionResnetV1\n",
    "import torch\n",
    "from torchvision import datasets\n",
    "from torch.utils.data import DataLoader\n",
    "from PIL import Image\n",
    "import torch.optim as optim\n",
    "from facenet_pytorch import MTCNN, InceptionResnetV1, fixed_image_standardization, training\n",
    "import torch\n",
    "from torch.utils.data import DataLoader, SubsetRandomSampler\n",
    "from torch import optim\n",
    "from torch.optim.lr_scheduler import MultiStepLR\n",
    "from torch.utils.tensorboard import SummaryWriter\n",
    "from torchvision import datasets, transforms\n",
    "import numpy as np\n",
    "import os"
   ]
  },
  {
   "cell_type": "code",
   "execution_count": 2,
   "id": "442033f4",
   "metadata": {},
   "outputs": [
    {
     "name": "stdout",
     "output_type": "stream",
     "text": [
      "Running on device: cpu\n"
     ]
    }
   ],
   "source": [
    "device = torch.device('cuda:0' if torch.cuda.is_available() else 'cpu')\n",
    "print('Running on device: {}'.format(device))"
   ]
  },
  {
   "cell_type": "code",
   "execution_count": 3,
   "id": "1f75ddc7",
   "metadata": {},
   "outputs": [
    {
     "name": "stdout",
     "output_type": "stream",
     "text": [
      "Face detected with probability: 0.999979\n",
      "Face detected with probability: 0.999997\n",
      "Face detected with probability: 0.999737\n",
      "Face detected with probability: 0.999788\n",
      "Face detected with probability: 0.999899\n"
     ]
    }
   ],
   "source": [
    "mtcnn = MTCNN(image_size=240, margin=0, min_face_size=20)\n",
    "resnet = InceptionResnetV1(pretrained='vggface2').eval()\n",
    "batch_size = 8\n",
    "dataset = datasets.ImageFolder('image') #../data/test_images\n",
    "idx_to_class = {i:c for c,i in dataset.class_to_idx.items()}\n",
    "\n",
    "def collate_fn(x):\n",
    "    return x[0]\n",
    "\n",
    "loader = DataLoader(dataset, batch_size=batch_size, collate_fn=collate_fn)\n",
    "\n",
    "face_list = []\n",
    "name_list = []\n",
    "embedding_list = []\n",
    "aligned = []\n",
    "\n",
    "for img, idx in loader:\n",
    "    face, prob = mtcnn(img, return_prob=True)\n",
    "    if face is not None and prob>0.90:\n",
    "        print(\"Face detected with probability: {:8f}\".format(prob))\n",
    "        aligned.append(face)\n",
    "        emb = resnet(face.unsqueeze(0))\n",
    "        embedding_list.append(emb.detach())\n",
    "        name_list.append(idx_to_class[idx])"
   ]
  },
  {
   "cell_type": "code",
   "execution_count": 4,
   "id": "62bbc5db",
   "metadata": {},
   "outputs": [],
   "source": [
    "data = [embedding_list, name_list]\n",
    "torch.save(data, 'data.pt')"
   ]
  },
  {
   "cell_type": "code",
   "execution_count": 5,
   "id": "238ce75d",
   "metadata": {},
   "outputs": [],
   "source": [
    "aligned = torch.stack(aligned).to(device)\n",
    "embeddings = resnet(aligned).detach().cpu()"
   ]
  },
  {
   "cell_type": "code",
   "execution_count": 6,
   "id": "2e6c2b9f",
   "metadata": {},
   "outputs": [
    {
     "name": "stdout",
     "output_type": "stream",
     "text": [
      "Identity matched with:  image 9\n"
     ]
    }
   ],
   "source": [
    "def face_match(img_path, data_path):\n",
    "    img = Image.open(img_path)\n",
    "    face, prob = mtcnn(img, return_prob=True)\n",
    "    emb = resnet(face.unsqueeze(0)).detach()\n",
    "    \n",
    "    saved_data = torch.load('data.pt')\n",
    "    embedding_list = saved_data[0]\n",
    "    name_list = saved_data[1]\n",
    "    dist_list = []\n",
    "    \n",
    "    for idx, emb_db in enumerate(embedding_list):\n",
    "        dist = torch.dist(emb, emb_db).item()\n",
    "        dist_list.append(dist)\n",
    "        \n",
    "    idx_min = dist_list.index(min(dist_list))\n",
    "    \n",
    "    return name_list[idx_min]\n",
    "\n",
    "person = face_match('suj.jpeg', 'data.pt')\n",
    "print(\"Identity matched with: \", person)\n"
   ]
  },
  {
   "cell_type": "code",
   "execution_count": 7,
   "id": "f6f70089",
   "metadata": {},
   "outputs": [
    {
     "name": "stdout",
     "output_type": "stream",
     "text": [
      "           anon10     anon5   image 9    image6       sun\n",
      "anon10   0.000000  1.380113  1.282680  1.343716  1.091450\n",
      "anon5    1.380113  0.000000  1.273960  1.237680  1.181681\n",
      "image 9  1.282680  1.273960  0.000000  0.812186  1.271846\n",
      "image6   1.343716  1.237680  0.812186  0.000000  1.284912\n",
      "sun      1.091450  1.181681  1.271846  1.284912  0.000000\n"
     ]
    }
   ],
   "source": [
    "import pandas as pd\n",
    "dists = [[(e1 - e2).norm().item() for e2 in embeddings] for e1 in embeddings]\n",
    "print(pd.DataFrame(dists, columns=name_list, index=name_list))"
   ]
  },
  {
   "cell_type": "code",
   "execution_count": null,
   "id": "2c520b0e",
   "metadata": {},
   "outputs": [],
   "source": []
  },
  {
   "cell_type": "code",
   "execution_count": null,
   "id": "c3b31331",
   "metadata": {},
   "outputs": [],
   "source": []
  }
 ],
 "metadata": {
  "kernelspec": {
   "display_name": "Python 3",
   "language": "python",
   "name": "python3"
  },
  "language_info": {
   "codemirror_mode": {
    "name": "ipython",
    "version": 3
   },
   "file_extension": ".py",
   "mimetype": "text/x-python",
   "name": "python",
   "nbconvert_exporter": "python",
   "pygments_lexer": "ipython3",
   "version": "3.8.8"
  }
 },
 "nbformat": 4,
 "nbformat_minor": 5
}
